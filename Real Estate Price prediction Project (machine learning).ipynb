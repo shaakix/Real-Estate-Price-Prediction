{
 "cells": [
  {
   "cell_type": "markdown",
   "metadata": {},
   "source": [
    "## Importing Libraries"
   ]
  },
  {
   "cell_type": "code",
   "execution_count": 10,
   "metadata": {},
   "outputs": [
    {
     "name": "stdout",
     "output_type": "stream",
     "text": [
      "Index(['MedInc', 'HouseAge', 'AveRooms', 'AveBedrms', 'Population', 'AveOccup',\n",
      "       'Latitude', 'Longitude', 'Target'],\n",
      "      dtype='object')\n"
     ]
    }
   ],
   "source": [
    "# Import libraries \n",
    "import pandas as pd\n",
    "import numpy as np\n",
    "import seaborn as sb\n",
    "import matplotlib.pyplot as plt\n",
    "from sklearn.datasets import fetch_california_housing\n",
    "\n",
    "# fetching California housing dataset \n",
    "housing_data = fetch_california_housing()\n",
    "\n",
    "# Organize features and target values into DataFrames, concatenate them, and print column names.\n",
    "descr = housing_data['DESCR']\n",
    "feature_names = housing_data['feature_names']\n",
    "data = housing_data['data']\n",
    "target = housing_data['target']\n",
    "df1 = pd.DataFrame(data=data)\n",
    "df1.rename(columns={0: feature_names[0], 1: feature_names[1], 2: feature_names[2], 3: feature_names[3],\n",
    " 4: feature_names[4], 5: feature_names[5], 6: feature_names[6], 7: feature_names[7]}, inplace=True)\n",
    "df2 = pd.DataFrame(data=target)\n",
    "df2.rename(columns={0: 'Target'}, inplace=True)\n",
    "housing = pd.concat([df1, df2], axis=1)\n",
    "print(housing.columns)\n",
    "\n",
    "\n"
   ]
  },
  {
   "cell_type": "markdown",
   "metadata": {},
   "source": [
    "## Display Data"
   ]
  },
  {
   "cell_type": "code",
   "execution_count": 11,
   "metadata": {},
   "outputs": [
    {
     "data": {
      "text/html": [
       "<div>\n",
       "<style scoped>\n",
       "    .dataframe tbody tr th:only-of-type {\n",
       "        vertical-align: middle;\n",
       "    }\n",
       "\n",
       "    .dataframe tbody tr th {\n",
       "        vertical-align: top;\n",
       "    }\n",
       "\n",
       "    .dataframe thead th {\n",
       "        text-align: right;\n",
       "    }\n",
       "</style>\n",
       "<table border=\"1\" class=\"dataframe\">\n",
       "  <thead>\n",
       "    <tr style=\"text-align: right;\">\n",
       "      <th></th>\n",
       "      <th>MedInc</th>\n",
       "      <th>HouseAge</th>\n",
       "      <th>AveRooms</th>\n",
       "      <th>AveBedrms</th>\n",
       "      <th>Population</th>\n",
       "      <th>AveOccup</th>\n",
       "      <th>Latitude</th>\n",
       "      <th>Longitude</th>\n",
       "      <th>Target</th>\n",
       "    </tr>\n",
       "  </thead>\n",
       "  <tbody>\n",
       "    <tr>\n",
       "      <th>0</th>\n",
       "      <td>8.3252</td>\n",
       "      <td>41.0</td>\n",
       "      <td>6.984127</td>\n",
       "      <td>1.023810</td>\n",
       "      <td>322.0</td>\n",
       "      <td>2.555556</td>\n",
       "      <td>37.88</td>\n",
       "      <td>-122.23</td>\n",
       "      <td>4.526</td>\n",
       "    </tr>\n",
       "    <tr>\n",
       "      <th>1</th>\n",
       "      <td>8.3014</td>\n",
       "      <td>21.0</td>\n",
       "      <td>6.238137</td>\n",
       "      <td>0.971880</td>\n",
       "      <td>2401.0</td>\n",
       "      <td>2.109842</td>\n",
       "      <td>37.86</td>\n",
       "      <td>-122.22</td>\n",
       "      <td>3.585</td>\n",
       "    </tr>\n",
       "    <tr>\n",
       "      <th>2</th>\n",
       "      <td>7.2574</td>\n",
       "      <td>52.0</td>\n",
       "      <td>8.288136</td>\n",
       "      <td>1.073446</td>\n",
       "      <td>496.0</td>\n",
       "      <td>2.802260</td>\n",
       "      <td>37.85</td>\n",
       "      <td>-122.24</td>\n",
       "      <td>3.521</td>\n",
       "    </tr>\n",
       "    <tr>\n",
       "      <th>3</th>\n",
       "      <td>5.6431</td>\n",
       "      <td>52.0</td>\n",
       "      <td>5.817352</td>\n",
       "      <td>1.073059</td>\n",
       "      <td>558.0</td>\n",
       "      <td>2.547945</td>\n",
       "      <td>37.85</td>\n",
       "      <td>-122.25</td>\n",
       "      <td>3.413</td>\n",
       "    </tr>\n",
       "    <tr>\n",
       "      <th>4</th>\n",
       "      <td>3.8462</td>\n",
       "      <td>52.0</td>\n",
       "      <td>6.281853</td>\n",
       "      <td>1.081081</td>\n",
       "      <td>565.0</td>\n",
       "      <td>2.181467</td>\n",
       "      <td>37.85</td>\n",
       "      <td>-122.25</td>\n",
       "      <td>3.422</td>\n",
       "    </tr>\n",
       "  </tbody>\n",
       "</table>\n",
       "</div>"
      ],
      "text/plain": [
       "   MedInc  HouseAge  AveRooms  AveBedrms  Population  AveOccup  Latitude  \\\n",
       "0  8.3252      41.0  6.984127   1.023810       322.0  2.555556     37.88   \n",
       "1  8.3014      21.0  6.238137   0.971880      2401.0  2.109842     37.86   \n",
       "2  7.2574      52.0  8.288136   1.073446       496.0  2.802260     37.85   \n",
       "3  5.6431      52.0  5.817352   1.073059       558.0  2.547945     37.85   \n",
       "4  3.8462      52.0  6.281853   1.081081       565.0  2.181467     37.85   \n",
       "\n",
       "   Longitude  Target  \n",
       "0    -122.23   4.526  \n",
       "1    -122.22   3.585  \n",
       "2    -122.24   3.521  \n",
       "3    -122.25   3.413  \n",
       "4    -122.25   3.422  "
      ]
     },
     "execution_count": 11,
     "metadata": {},
     "output_type": "execute_result"
    }
   ],
   "source": [
    "#displays the first 5 rows of the DataFrame 'housing', allowing quick inspection of its structure, content.\n",
    "\n",
    "housing.head()"
   ]
  },
  {
   "cell_type": "code",
   "execution_count": 13,
   "metadata": {},
   "outputs": [
    {
     "name": "stdout",
     "output_type": "stream",
     "text": [
      "dimension of housing data: (20640, 9)\n"
     ]
    }
   ],
   "source": [
    "# Print the dimensions of the 'housing' DataFrame.\n",
    "print('dimension of housing data: {}'.format(housing.shape))"
   ]
  },
  {
   "cell_type": "code",
   "execution_count": 14,
   "metadata": {},
   "outputs": [
    {
     "name": "stdout",
     "output_type": "stream",
     "text": [
      "<class 'pandas.core.frame.DataFrame'>\n",
      "RangeIndex: 20640 entries, 0 to 20639\n",
      "Data columns (total 9 columns):\n",
      " #   Column      Non-Null Count  Dtype  \n",
      "---  ------      --------------  -----  \n",
      " 0   MedInc      20640 non-null  float64\n",
      " 1   HouseAge    20640 non-null  float64\n",
      " 2   AveRooms    20640 non-null  float64\n",
      " 3   AveBedrms   20640 non-null  float64\n",
      " 4   Population  20640 non-null  float64\n",
      " 5   AveOccup    20640 non-null  float64\n",
      " 6   Latitude    20640 non-null  float64\n",
      " 7   Longitude   20640 non-null  float64\n",
      " 8   Target      20640 non-null  float64\n",
      "dtypes: float64(9)\n",
      "memory usage: 1.4 MB\n"
     ]
    }
   ],
   "source": [
    "# Display concise information about the 'housing' DataFrame.\n",
    "housing.info()"
   ]
  },
  {
   "cell_type": "markdown",
   "metadata": {},
   "source": [
    "## Split Data, Train KNeighborsRegressor, and Plot R² Scores"
   ]
  },
  {
   "cell_type": "code",
   "execution_count": 17,
   "metadata": {},
   "outputs": [
    {
     "data": {
      "image/png": "[encoded data removed]",
      "text/plain": [
       "<Figure size 432x288 with 1 Axes>"
      ]
     },
     "metadata": {
      "needs_background": "light"
     },
     "output_type": "display_data"
    }
   ],
   "source": [
    "# Split data\n",
    "\n",
    "from sklearn.model_selection import train_test_split\n",
    "X_train, X_test, y_train, y_test = train_test_split(housing.loc[:, housing.columns != 'Target'], housing['Target'], random_state=66)\n",
    "\n",
    "\n",
    "# train KNeighborsRegressor with varying neighbors\n",
    "\n",
    "from sklearn.neighbors import KNeighborsRegressor\n",
    "training_score = []\n",
    "test_score = []\n",
    "# try n_neighbors from 1 to 10\n",
    "neighbors_settings = range(1, 11)\n",
    "for n_neighbors in neighbors_settings:\n",
    " # build the model\n",
    " knn = KNeighborsRegressor(n_neighbors=n_neighbors)\n",
    " knn.fit(X_train, y_train)\n",
    " # record training set score\n",
    " training_score.append(knn.score(X_train, y_train))\n",
    " # record test set score\n",
    " test_score.append(knn.score(X_test, y_test))\n",
    "\n",
    "# plot and save R² scores for training and test sets.\n",
    "\n",
    "plt.plot(neighbors_settings, training_score, label='training score')\n",
    "plt.plot(neighbors_settings, test_score, label='test score')\n",
    "plt.ylabel('R²')\n",
    "plt.xlabel('n_neighbors')\n",
    "plt.legend()\n",
    "plt.savefig('knn_compare_model')"
   ]
  },
  {
   "cell_type": "markdown",
   "metadata": {},
   "source": [
    "## Evaluate KNN Regressor (k=10) on Training and Test Sets"
   ]
  },
  {
   "cell_type": "code",
   "execution_count": 18,
   "metadata": {},
   "outputs": [
    {
     "name": "stdout",
     "output_type": "stream",
     "text": [
      "R² of KNN Regressor on training set: 0.316\n",
      "R² of KNN Regressor on test set: 0.152\n"
     ]
    }
   ],
   "source": [
    "knn = KNeighborsRegressor(n_neighbors=10)\n",
    "knn.fit(X_train, y_train)\n",
    "k1 = knn.score(X_train, y_train)\n",
    "k2 = knn.score(X_test, y_test)\n",
    "print('R² of KNN Regressor on training set: {:.3f}'.format(k1))\n",
    "print('R² of KNN Regressor on test set: {:.3f}'.format(k2))"
   ]
  },
  {
   "cell_type": "markdown",
   "metadata": {},
   "source": [
    "## Evaluate Linear Regression on Training and Test Sets"
   ]
  },
  {
   "cell_type": "code",
   "execution_count": 19,
   "metadata": {},
   "outputs": [
    {
     "name": "stdout",
     "output_type": "stream",
     "text": [
      "R² of Linear Regression on training set: 0.603\n",
      "R² of Linear Regression on test set: 0.609\n"
     ]
    }
   ],
   "source": [
    "from sklearn.linear_model import LinearRegression\n",
    "linreg = LinearRegression()\n",
    "linreg.fit(X_train, y_train)\n",
    "l1 = linreg.score(X_train, y_train)\n",
    "l2 = linreg.score(X_test, y_test)\n",
    "print('R² of Linear Regression on training set: {:.3f}'.format(l1))\n",
    "print('R² of Linear Regression on test set: {:.3f}'.format(l2))"
   ]
  },
  {
   "cell_type": "markdown",
   "metadata": {},
   "source": [
    "## Evaluate Decision Tree Regressor on Training and Test Sets"
   ]
  },
  {
   "cell_type": "code",
   "execution_count": 20,
   "metadata": {},
   "outputs": [
    {
     "name": "stdout",
     "output_type": "stream",
     "text": [
      "R² of Decision Tree Regressor on training set: 1.000\n",
      "R² of Decision Tree Regressor on test set: 0.609\n"
     ]
    }
   ],
   "source": [
    "housing_features = [x for i,x in enumerate(housing.columns) if i!=8]\n",
    "from sklearn.tree import DecisionTreeRegressor\n",
    "tree = DecisionTreeRegressor(random_state=0)\n",
    "tree.fit(X_train, y_train)\n",
    "t1 = tree.score(X_train, y_train)\n",
    "t2 = tree.score(X_test, y_test)\n",
    "print('R² of Decision Tree Regressor on training set: {:.3f}'.format(t1))\n",
    "print('R² of Decision Tree Regressor on test set: {:.3f}'.format(t2))"
   ]
  },
  {
   "cell_type": "markdown",
   "metadata": {},
   "source": [
    "## Evaluate Decision Tree Regressor (Max Depth=3) on Training and Test Sets"
   ]
  },
  {
   "cell_type": "code",
   "execution_count": 21,
   "metadata": {},
   "outputs": [
    {
     "name": "stdout",
     "output_type": "stream",
     "text": [
      "R² of Decision Tree Regressor on training set: 0.531\n",
      "R² of Decision Tree Regressor on test set: 0.539\n"
     ]
    }
   ],
   "source": [
    "tree1 = DecisionTreeRegressor(max_depth=3, random_state=0)\n",
    "tree1.fit(X_train, y_train)\n",
    "t3 = tree1.score(X_train, y_train)\n",
    "t4 = tree1.score(X_test, y_test)\n",
    "print('R² of Decision Tree Regressor on training set: {:.3f}'.format(t3))\n",
    "print('R² of Decision Tree Regressor on test set: {:.3f}'.format(t4))"
   ]
  },
  {
   "cell_type": "code",
   "execution_count": 23,
   "metadata": {},
   "outputs": [
    {
     "name": "stdout",
     "output_type": "stream",
     "text": [
      "Feature importances:\n",
      "[0.8490424  0.         0.02807079 0.         0.         0.12288681\n",
      " 0.         0.        ]\n"
     ]
    }
   ],
   "source": [
    "# Print feature importances obtained from the Decision Tree Regressor with max depth of 3.\n",
    "print('Feature importances:\\n{}'.format(tree1.feature_importances_))"
   ]
  },
  {
   "cell_type": "code",
   "execution_count": 25,
   "metadata": {},
   "outputs": [
    {
     "data": {
      "image/png": "[encoded data removed]",
      "text/plain": [
       "<Figure size 576x432 with 1 Axes>"
      ]
     },
     "metadata": {
      "needs_background": "light"
     },
     "output_type": "display_data"
    }
   ],
   "source": [
    "# Plot Feature Importances for Decision Tree Regressor (Max Depth=3)\n",
    "\n",
    "def plot_feature_importances_housing(model):\n",
    " plt.figure(figsize=(8,6))\n",
    " n_features = 8\n",
    " plt.barh(range(n_features), model.feature_importances_, align='center')\n",
    " plt.yticks(np.arange(n_features), housing_features)\n",
    " plt.xlabel('Feature importance')\n",
    " plt.ylabel('Feature')\n",
    " plt.ylim(-1, n_features)\n",
    "plot_feature_importances_housing(tree1)\n",
    "plt.savefig('feature_importance')"
   ]
  },
  {
   "cell_type": "markdown",
   "metadata": {},
   "source": [
    "## Evaluate Random Forest Regressor on Training and Test Sets"
   ]
  },
  {
   "cell_type": "code",
   "execution_count": 26,
   "metadata": {},
   "outputs": [
    {
     "name": "stdout",
     "output_type": "stream",
     "text": [
      "R² of Random Forest Regressor on training set: 0.973\n",
      "R² of Random Forest Regressor on test set: 0.812\n"
     ]
    }
   ],
   "source": [
    "from sklearn.ensemble import RandomForestRegressor\n",
    "rf = RandomForestRegressor(n_estimators=100, random_state=0)\n",
    "rf.fit(X_train, y_train)\n",
    "r1 = rf.score(X_train, y_train)\n",
    "r2 = rf.score(X_test, y_test)\n",
    "print('R² of Random Forest Regressor on training set: {:.3f}'.format(r1))\n",
    "print('R² of Random Forest Regressor on test set: {:.3f}'.format(r2))"
   ]
  },
  {
   "cell_type": "markdown",
   "metadata": {},
   "source": [
    "## Evaluate Random Forest Regressor (Max Depth=7) on Training and Test Sets"
   ]
  },
  {
   "cell_type": "code",
   "execution_count": 27,
   "metadata": {},
   "outputs": [
    {
     "name": "stdout",
     "output_type": "stream",
     "text": [
      "R² of Random Forest Regressor on training set: 0.762\n",
      "R² of Random Forest Regressor on test set: 0.733\n"
     ]
    }
   ],
   "source": [
    "rf1 = RandomForestRegressor(max_depth=7, n_estimators=100, random_state=42)\n",
    "rf1.fit(X_train, y_train)\n",
    "r3 = rf1.score(X_train, y_train)\n",
    "r4 = rf1.score(X_test, y_test)\n",
    "print('R² of Random Forest Regressor on training set: {:.3f}'.format(r3))\n",
    "print('R² of Random Forest Regressor on test set: {:.3f}'.format(r4))"
   ]
  },
  {
   "cell_type": "code",
   "execution_count": 28,
   "metadata": {},
   "outputs": [
    {
     "data": {
      "image/png": "[encoded data removed]",
      "text/plain": [
       "<Figure size 576x432 with 1 Axes>"
      ]
     },
     "metadata": {
      "needs_background": "light"
     },
     "output_type": "display_data"
    }
   ],
   "source": [
    "# Plot feature importances obtained from the Random Forest Regressor.\n",
    "\n",
    "plot_feature_importances_housing(rf)"
   ]
  },
  {
   "cell_type": "markdown",
   "metadata": {},
   "source": [
    "## Evaluate Gradient Boosting Regressor on Training and Test Sets"
   ]
  },
  {
   "cell_type": "code",
   "execution_count": 29,
   "metadata": {},
   "outputs": [
    {
     "name": "stdout",
     "output_type": "stream",
     "text": [
      "R^2 of Gradient Boosting Regressor on training set: 0.808\n",
      "R^2 of Gradient Boosting Regressor on test set: 0.795\n"
     ]
    }
   ],
   "source": [
    "from sklearn.ensemble import GradientBoostingRegressor\n",
    "gb = GradientBoostingRegressor(random_state=0)\n",
    "gb.fit(X_train, y_train)\n",
    "g1 = gb.score(X_train, y_train)\n",
    "g2 = gb.score(X_test, y_test)\n",
    "print('R^2 of Gradient Boosting Regressor on training set: {:.3f}'.format(g1))\n",
    "print('R^2 of Gradient Boosting Regressor on test set: {:.3f}'.format(g2))"
   ]
  },
  {
   "cell_type": "code",
   "execution_count": 30,
   "metadata": {},
   "outputs": [
    {
     "name": "stdout",
     "output_type": "stream",
     "text": [
      "R² of Gradient Boosting Regressor on training set: 0.842\n",
      "R² of Gradient Boosting Regressor on test set: 0.814\n"
     ]
    }
   ],
   "source": [
    "# Evaluate Gradient Boosting Regressor (Max Depth=4) on Training and Test Sets\n",
    "\n",
    "gb1 = GradientBoostingRegressor(random_state=0, max_depth=4)\n",
    "gb1.fit(X_train, y_train)\n",
    "g3 = gb1.score(X_train, y_train)\n",
    "g4 = gb1.score(X_test, y_test)\n",
    "print('R² of Gradient Boosting Regressor on training set: {:.3f}'.format(g3))\n",
    "print('R² of Gradient Boosting Regressor on test set: {:.3f}'.format(g4))"
   ]
  },
  {
   "cell_type": "code",
   "execution_count": 31,
   "metadata": {},
   "outputs": [
    {
     "name": "stdout",
     "output_type": "stream",
     "text": [
      "R² of Gradient Boosting Regressor on training set: 0.823\n",
      "R² of Gradient Boosting Regressor on test set: 0.808\n"
     ]
    }
   ],
   "source": [
    "Evaluate Gradient Boosting Regressor (Learning Rate=0.15) on Training and Test Sets\n",
    "\n",
    "gb2 = GradientBoostingRegressor(random_state=0, learning_rate=0.15)\n",
    "gb2.fit(X_train, y_train)\n",
    "g5 = gb2.score(X_train, y_train)\n",
    "g6 = gb2.score(X_test, y_test)\n",
    "print('R² of Gradient Boosting Regressor on training set: {:.3f}'.format(g5))\n",
    "print('R² of Gradient Boosting Regressor on test set: {:.3f}'.format(g6))"
   ]
  },
  {
   "cell_type": "code",
   "execution_count": 32,
   "metadata": {},
   "outputs": [
    {
     "data": {
      "image/png": "[encoded data removed]",
      "text/plain": [
       "<Figure size 576x432 with 1 Axes>"
      ]
     },
     "metadata": {
      "needs_background": "light"
     },
     "output_type": "display_data"
    }
   ],
   "source": [
    "# Plot Feature Importances for Gradient Boosting Regressor (Max Depth=4)\n",
    "plot_feature_importances_housing(gb1)"
   ]
  },
  {
   "cell_type": "markdown",
   "metadata": {},
   "source": [
    "## Evaluate Support Vector Regressor on Training and Test Sets"
   ]
  },
  {
   "cell_type": "code",
   "execution_count": 33,
   "metadata": {},
   "outputs": [
    {
     "name": "stdout",
     "output_type": "stream",
     "text": [
      "R² of Support Vector Regressor on training set: -0.023\n",
      "R² of Support Vector Regressor on test set: -0.033\n"
     ]
    }
   ],
   "source": [
    "# Train a Support Vector Regressor and calculate R² scores on the training and test sets.\n",
    "\n",
    "from sklearn.svm import SVR\n",
    "svr = SVR()\n",
    "svr.fit(X_train, y_train)\n",
    "s1 = svr.score(X_train, y_train)\n",
    "s2 = svr.score(X_test, y_test)\n",
    "print('R² of Support Vector Regressor on training set: {:.3f}'.format(s1))\n",
    "print('R² of Support Vector Regressor on test set: {:.3f}'.format(s2))"
   ]
  },
  {
   "cell_type": "markdown",
   "metadata": {},
   "source": [
    "## Evaluate Scaled Support Vector Regressor on Training and Test Sets"
   ]
  },
  {
   "cell_type": "code",
   "execution_count": 34,
   "metadata": {},
   "outputs": [
    {
     "name": "stdout",
     "output_type": "stream",
     "text": [
      "R² of Support Vector Regressor on training set: 0.659\n",
      "R² of Support Vector Regressor on test set: 0.663\n"
     ]
    }
   ],
   "source": [
    "from sklearn.preprocessing import MinMaxScaler\n",
    "scaler = MinMaxScaler()\n",
    "X_train_scaled = scaler.fit_transform(X_train)\n",
    "X_test_scaled = scaler.fit_transform(X_test)\n",
    "svr1 = SVR()\n",
    "svr1.fit(X_train_scaled, y_train)\n",
    "s3 = svr1.score(X_train_scaled, y_train)\n",
    "s4 = svr1.score(X_test_scaled, y_test)\n",
    "print('R² of Support Vector Regressor on training set: {:.3f}'.format(s3))\n",
    "print('R² of Support Vector Regressor on test set: {:.3f}'.format(s4))"
   ]
  },
  {
   "cell_type": "markdown",
   "metadata": {},
   "source": [
    "## Evaluate Support Vector Regressor with Gamma=10 on Training and Test Sets"
   ]
  },
  {
   "cell_type": "code",
   "execution_count": 35,
   "metadata": {},
   "outputs": [
    {
     "name": "stdout",
     "output_type": "stream",
     "text": [
      "R² of Support Vector Regressor on training set: 0.702\n",
      "R² of Support Vector Regressor on test set: 0.697\n"
     ]
    }
   ],
   "source": [
    "svr2 = SVR(gamma=10)\n",
    "svr2.fit(X_train_scaled, y_train)\n",
    "s5 = svr2.score(X_train_scaled, y_train)\n",
    "s6 = svr2.score(X_test_scaled, y_test)\n",
    "print('R² of Support Vector Regressor on training set: {:.3f}'.format(s5))\n",
    "print('R² of Support Vector Regressor on test set: {:.3f}'.format(s6))"
   ]
  },
  {
   "cell_type": "markdown",
   "metadata": {},
   "source": [
    "## Evaluate MLP Regressor on Training and Test Sets"
   ]
  },
  {
   "cell_type": "code",
   "execution_count": 36,
   "metadata": {},
   "outputs": [
    {
     "name": "stdout",
     "output_type": "stream",
     "text": [
      "R² of MLP Regressor on training set: 0.502\n",
      "R² of MLP Regressor on test set: 0.459\n"
     ]
    }
   ],
   "source": [
    "# Train a Multi-Layer Perceptron Regressor and calculate R² scores on the training and test sets.\n",
    "\n",
    "from sklearn.neural_network import MLPRegressor\n",
    "mlp = MLPRegressor(random_state=42)\n",
    "mlp.fit(X_train, y_train)\n",
    "m1 = mlp.score(X_train, y_train)\n",
    "m2 = mlp.score(X_test, y_test)\n",
    "print('R² of MLP Regressor on training set: {:.3f}'.format(m1))\n",
    "print('R² of MLP Regressor on test set: {:.3f}'.format(m2))"
   ]
  },
  {
   "cell_type": "markdown",
   "metadata": {},
   "source": [
    "## Evaluate Scaled MLP Regressor on Training and Test Sets"
   ]
  },
  {
   "cell_type": "code",
   "execution_count": 37,
   "metadata": {},
   "outputs": [
    {
     "name": "stdout",
     "output_type": "stream",
     "text": [
      "R² of MLP Regressor on training set: 0.773\n",
      "R² of MLP Regressor on test set: 0.723\n"
     ]
    }
   ],
   "source": [
    "# Standardize features using Standard Scaler, \n",
    "# then train an MLP Regressor and calculate R² scores on the training and test sets.\n",
    "\n",
    "from sklearn.preprocessing import StandardScaler\n",
    "scaler = StandardScaler()\n",
    "X_train_scaled = scaler.fit_transform(X_train)\n",
    "X_test_scaled = scaler.fit_transform(X_test)\n",
    "mlp1 = MLPRegressor(random_state=0)\n",
    "mlp1.fit(X_train_scaled, y_train)\n",
    "m3 = mlp1.score(X_train_scaled, y_train)\n",
    "m4 = mlp1.score(X_test_scaled, y_test)\n",
    "print('R² of MLP Regressor on training set: {:.3f}'.format(m3))\n",
    "print('R² of MLP Regressor on test set: {:.3f}'.format(m4))"
   ]
  },
  {
   "cell_type": "markdown",
   "metadata": {},
   "source": [
    "## Evaluate MLP Regressor (Max Iterations=1000) on Training and Test Sets"
   ]
  },
  {
   "cell_type": "code",
   "execution_count": 38,
   "metadata": {},
   "outputs": [
    {
     "name": "stdout",
     "output_type": "stream",
     "text": [
      "R² of MLP Regressor on training set: 0.773\n",
      "R² of MLP Regressor on test set: 0.723\n"
     ]
    }
   ],
   "source": [
    "# Train an MLP Regressor with increased maximum iterations and calculate R² scores on the training and test sets.\n",
    "\n",
    "mlp2 = MLPRegressor(max_iter=1000, random_state=0)\n",
    "mlp2.fit(X_train_scaled, y_train)\n",
    "m5 = mlp2.score(X_train_scaled, y_train)\n",
    "m6 = mlp2.score(X_test_scaled, y_test)\n",
    "print('R² of MLP Regressor on training set: {:.3f}'.format(m5))\n",
    "print('R² of MLP Regressor on test set: {:.3f}'.format(m6))"
   ]
  },
  {
   "cell_type": "markdown",
   "metadata": {},
   "source": [
    "## Evaluate MLP Regressor (Max Iterations=1000, Alpha=1) on Training and Test Sets"
   ]
  },
  {
   "cell_type": "code",
   "execution_count": 39,
   "metadata": {},
   "outputs": [
    {
     "name": "stdout",
     "output_type": "stream",
     "text": [
      "R² of MLP Regressor on training set: 0.740\n",
      "R² of MLP Regressor on test set: 0.714\n"
     ]
    }
   ],
   "source": [
    "# Train an MLP Regressor with increased maximum iterations and regularization (alpha=1), \n",
    "# then calculate R² scores on the training and test sets.\n",
    "\n",
    "mlp3 = MLPRegressor(max_iter=1000, alpha=1, random_state=0)\n",
    "mlp3.fit(X_train_scaled, y_train)\n",
    "m7 = mlp3.score(X_train_scaled, y_train)\n",
    "m8 = mlp3.score(X_test_scaled, y_test)\n",
    "print('R² of MLP Regressor on training set: {:.3f}'.format(m7))\n",
    "print('R² of MLP Regressor on test set: {:.3f}'.format(m8))"
   ]
  },
  {
   "cell_type": "markdown",
   "metadata": {},
   "source": [
    "## Compare Regression Models on Test Set"
   ]
  },
  {
   "cell_type": "code",
   "execution_count": 40,
   "metadata": {},
   "outputs": [
    {
     "data": {
      "text/html": [
       "<div>\n",
       "<style scoped>\n",
       "    .dataframe tbody tr th:only-of-type {\n",
       "        vertical-align: middle;\n",
       "    }\n",
       "\n",
       "    .dataframe tbody tr th {\n",
       "        vertical-align: top;\n",
       "    }\n",
       "\n",
       "    .dataframe thead th {\n",
       "        text-align: right;\n",
       "    }\n",
       "</style>\n",
       "<table border=\"1\" class=\"dataframe\">\n",
       "  <thead>\n",
       "    <tr style=\"text-align: right;\">\n",
       "      <th></th>\n",
       "      <th>Algorithms</th>\n",
       "      <th>Tests Score</th>\n",
       "    </tr>\n",
       "  </thead>\n",
       "  <tbody>\n",
       "    <tr>\n",
       "      <th>4</th>\n",
       "      <td>Gradient Boosting Regressor</td>\n",
       "      <td>0.813916</td>\n",
       "    </tr>\n",
       "    <tr>\n",
       "      <th>3</th>\n",
       "      <td>Random Forest Regressor</td>\n",
       "      <td>0.812289</td>\n",
       "    </tr>\n",
       "    <tr>\n",
       "      <th>6</th>\n",
       "      <td>MLP Regressor</td>\n",
       "      <td>0.713938</td>\n",
       "    </tr>\n",
       "    <tr>\n",
       "      <th>5</th>\n",
       "      <td>Support Vector Regressor</td>\n",
       "      <td>0.696627</td>\n",
       "    </tr>\n",
       "    <tr>\n",
       "      <th>1</th>\n",
       "      <td>Linear Regression</td>\n",
       "      <td>0.609141</td>\n",
       "    </tr>\n",
       "    <tr>\n",
       "      <th>2</th>\n",
       "      <td>Decision Tree Regressor</td>\n",
       "      <td>0.539000</td>\n",
       "    </tr>\n",
       "    <tr>\n",
       "      <th>0</th>\n",
       "      <td>KNN Regressor</td>\n",
       "      <td>0.152372</td>\n",
       "    </tr>\n",
       "  </tbody>\n",
       "</table>\n",
       "</div>"
      ],
      "text/plain": [
       "                    Algorithms  Tests Score\n",
       "4  Gradient Boosting Regressor     0.813916\n",
       "3      Random Forest Regressor     0.812289\n",
       "6                MLP Regressor     0.713938\n",
       "5     Support Vector Regressor     0.696627\n",
       "1            Linear Regression     0.609141\n",
       "2      Decision Tree Regressor     0.539000\n",
       "0                KNN Regressor     0.152372"
      ]
     },
     "execution_count": 40,
     "metadata": {},
     "output_type": "execute_result"
    }
   ],
   "source": [
    "# Create and sort a DataFrame to compare the R² scores of different regression models on the test set.\n",
    "\n",
    "models = ['KNN Regressor', 'Linear Regression', 'Decision Tree Regressor' ,'Random Forest Regressor',\n",
    " 'Gradient Boosting Regressor','Support Vector Regressor', 'MLP Regressor']\n",
    "tests_score = [k2, l2, t4, r2, g4, s6, m8]\n",
    "compare_models = pd.DataFrame({ 'Algorithms': models, 'Tests Score': tests_score })\n",
    "compare_models.sort_values(by = 'Tests Score', ascending = False)"
   ]
  },
  {
   "cell_type": "markdown",
   "metadata": {},
   "source": [
    "## Barplot of Regression Model Comparison"
   ]
  },
  {
   "cell_type": "code",
   "execution_count": 41,
   "metadata": {},
   "outputs": [
    {
     "data": {
      "image/png": "[encoded data removed]",
      "text/plain": [
       "<Figure size 576x576 with 1 Axes>"
      ]
     },
     "metadata": {
      "needs_background": "light"
     },
     "output_type": "display_data"
    }
   ],
   "source": [
    "#Visualize and compare the R² scores of different regression models using a barplot.\n",
    "import matplotlib.pyplot as plt\n",
    "%matplotlib inline\n",
    "plt.figure(figsize=(8,8))\n",
    "sb.barplot(x = 'Tests Score', y = 'Algorithms', data = compare_models)\n",
    "plt.show()"
   ]
  },
  {
   "cell_type": "code",
   "execution_count": null,
   "metadata": {},
   "outputs": [],
   "source": []
  }
 ],
 "metadata": {
  "kernelspec": {
   "display_name": "Python 3",
   "language": "python",
   "name": "python3"
  },
  "language_info": {
   "codemirror_mode": {
    "name": "ipython",
    "version": 3
   },
   "file_extension": ".py",
   "mimetype": "text/x-python",
   "name": "python",
   "nbconvert_exporter": "python",
   "pygments_lexer": "ipython3",
   "version": "3.7.8"
  }
 },
 "nbformat": 4,
 "nbformat_minor": 4
}
